{
  "nbformat": 4,
  "nbformat_minor": 0,
  "metadata": {
    "colab": {
      "name": "NER_CN_Bert.ipynb",
      "provenance": [],
      "authorship_tag": "ABX9TyPQ9f/+Re5AM7RKtttHJSB0",
      "include_colab_link": true
    },
    "kernelspec": {
      "name": "python3",
      "display_name": "Python 3"
    },
    "accelerator": "GPU"
  },
  "cells": [
    {
      "cell_type": "markdown",
      "metadata": {
        "id": "view-in-github",
        "colab_type": "text"
      },
      "source": [
        "<a href=\"https://colab.research.google.com/github/zhuhel/NER_CN_test/blob/master/NER_CN_Bert.ipynb\" target=\"_parent\"><img src=\"https://colab.research.google.com/assets/colab-badge.svg\" alt=\"Open In Colab\"/></a>"
      ]
    },
    {
      "cell_type": "markdown",
      "metadata": {
        "id": "sxusohYy5uhx",
        "colab_type": "text"
      },
      "source": [
        "# Read datasets and tags"
      ]
    },
    {
      "cell_type": "code",
      "metadata": {
        "id": "axJt_WJwwNv8",
        "colab_type": "code",
        "colab": {
          "base_uri": "https://localhost:8080/",
          "height": 34
        },
        "outputId": "bf8fe27f-6c8e-4d0b-bcfd-2ce8e99fde50"
      },
      "source": [
        "import pandas as pd\n",
        "import numpy as np\n",
        "import seaborn as sns\n",
        "import matplotlib.pyplot as plt\n",
        "import datetime as datetime\n",
        "\n",
        "from google.colab import drive\n",
        "drive.mount('/content/gdrive')"
      ],
      "execution_count": null,
      "outputs": [
        {
          "output_type": "stream",
          "text": [
            "Drive already mounted at /content/gdrive; to attempt to forcibly remount, call drive.mount(\"/content/gdrive\", force_remount=True).\n"
          ],
          "name": "stdout"
        }
      ]
    },
    {
      "cell_type": "code",
      "metadata": {
        "id": "2oUNnTZ9yYR7",
        "colab_type": "code",
        "colab": {
          "base_uri": "https://localhost:8080/",
          "height": 359
        },
        "outputId": "0e3b454e-7d37-476f-d239-fb4493e2f760"
      },
      "source": [
        "input_dir = \"/content/gdrive/My Drive/Chinese_NER/\"\n",
        "\n",
        "data = pd.read_csv(input_dir+\"train.tsv\", delimiter='\\t', header=None, names=['text','label'])\n",
        "data.head(10)"
      ],
      "execution_count": null,
      "outputs": [
        {
          "output_type": "execute_result",
          "data": {
            "text/html": [
              "<div>\n",
              "<style scoped>\n",
              "    .dataframe tbody tr th:only-of-type {\n",
              "        vertical-align: middle;\n",
              "    }\n",
              "\n",
              "    .dataframe tbody tr th {\n",
              "        vertical-align: top;\n",
              "    }\n",
              "\n",
              "    .dataframe thead th {\n",
              "        text-align: right;\n",
              "    }\n",
              "</style>\n",
              "<table border=\"1\" class=\"dataframe\">\n",
              "  <thead>\n",
              "    <tr style=\"text-align: right;\">\n",
              "      <th></th>\n",
              "      <th>text</th>\n",
              "      <th>label</th>\n",
              "    </tr>\n",
              "  </thead>\n",
              "  <tbody>\n",
              "    <tr>\n",
              "      <th>0</th>\n",
              "      <td>text_a</td>\n",
              "      <td>label</td>\n",
              "    </tr>\n",
              "    <tr>\n",
              "      <th>1</th>\n",
              "      <td>海\u0002钓\u0002比\u0002赛\u0002地\u0002点\u0002在\u0002厦\u0002门\u0002与\u0002金\u0002门\u0002之\u0002间\u0002的\u0002海\u0002域\u0002。</td>\n",
              "      <td>O\u0002O\u0002O\u0002O\u0002O\u0002O\u0002O\u0002B-LOC\u0002I-LOC\u0002O\u0002B-LOC\u0002I-LOC\u0002O\u0002O\u0002O\u0002...</td>\n",
              "    </tr>\n",
              "    <tr>\n",
              "      <th>2</th>\n",
              "      <td>这\u0002座\u0002依\u0002山\u0002傍\u0002水\u0002的\u0002博\u0002物\u0002馆\u0002由\u0002国\u0002内\u0002一\u0002流\u0002的\u0002设\u0002计\u0002师\u0002主\u0002持\u0002设\u0002计\u0002...</td>\n",
              "      <td>O\u0002O\u0002O\u0002O\u0002O\u0002O\u0002O\u0002O\u0002O\u0002O\u0002O\u0002O\u0002O\u0002O\u0002O\u0002O\u0002O\u0002O\u0002O\u0002O\u0002O\u0002O\u0002O\u0002...</td>\n",
              "    </tr>\n",
              "    <tr>\n",
              "      <th>3</th>\n",
              "      <td>但\u0002作\u0002为\u0002一\u0002个\u0002共\u0002产\u0002党\u0002员\u0002、\u0002人\u0002民\u0002公\u0002仆\u0002，\u0002应\u0002当\u0002胸\u0002怀\u0002宽\u0002阔\u0002，\u0002真\u0002...</td>\n",
              "      <td>O\u0002O\u0002O\u0002O\u0002O\u0002O\u0002O\u0002O\u0002O\u0002O\u0002O\u0002O\u0002O\u0002O\u0002O\u0002O\u0002O\u0002O\u0002O\u0002O\u0002O\u0002O\u0002O\u0002...</td>\n",
              "    </tr>\n",
              "    <tr>\n",
              "      <th>4</th>\n",
              "      <td>在\u0002发\u0002达\u0002国\u0002家\u0002，\u0002急\u0002救\u0002保\u0002险\u0002十\u0002分\u0002普\u0002及\u0002，\u0002已\u0002成\u0002为\u0002社\u0002会\u0002保\u0002障\u0002体\u0002...</td>\n",
              "      <td>O\u0002O\u0002O\u0002O\u0002O\u0002O\u0002O\u0002O\u0002O\u0002O\u0002O\u0002O\u0002O\u0002O\u0002O\u0002O\u0002O\u0002O\u0002O\u0002O\u0002O\u0002O\u0002O\u0002...</td>\n",
              "    </tr>\n",
              "    <tr>\n",
              "      <th>5</th>\n",
              "      <td>日\u0002俄\u0002两\u0002国\u0002国\u0002内\u0002政\u0002局\u0002都\u0002充\u0002满\u0002变\u0002数\u0002，\u0002尽\u0002管\u0002日\u0002俄\u0002关\u0002系\u0002目\u0002前\u0002是\u0002...</td>\n",
              "      <td>B-LOC\u0002B-LOC\u0002O\u0002O\u0002O\u0002O\u0002O\u0002O\u0002O\u0002O\u0002O\u0002O\u0002O\u0002O\u0002O\u0002O\u0002B-LOC\u0002...</td>\n",
              "    </tr>\n",
              "    <tr>\n",
              "      <th>6</th>\n",
              "      <td>克\u0002马\u0002尔\u0002的\u0002女\u0002儿\u0002让\u0002娜\u0002今\u0002年\u0002读\u0002五\u0002年\u0002级\u0002，\u0002她\u0002所\u0002在\u0002的\u0002班\u0002上\u0002有\u00023\u0002...</td>\n",
              "      <td>B-PER\u0002I-PER\u0002I-PER\u0002O\u0002O\u0002O\u0002B-PER\u0002I-PER\u0002O\u0002O\u0002O\u0002O\u0002O\u0002...</td>\n",
              "    </tr>\n",
              "    <tr>\n",
              "      <th>7</th>\n",
              "      <td>参\u0002加\u0002步\u0002行\u0002的\u0002有\u0002男\u0002有\u0002女\u0002，\u0002有\u0002年\u0002轻\u0002人\u0002，\u0002也\u0002有\u0002中\u0002年\u0002人\u0002。</td>\n",
              "      <td>O\u0002O\u0002O\u0002O\u0002O\u0002O\u0002O\u0002O\u0002O\u0002O\u0002O\u0002O\u0002O\u0002O\u0002O\u0002O\u0002O\u0002O\u0002O\u0002O\u0002O</td>\n",
              "    </tr>\n",
              "    <tr>\n",
              "      <th>8</th>\n",
              "      <td>沙\u0002特\u0002队\u0002教\u0002练\u0002佩\u0002雷\u0002拉\u0002：\u0002两\u0002支\u0002队\u0002都\u0002想\u0002胜\u0002，\u0002因\u0002此\u0002都\u0002作\u0002出\u0002了\u0002最\u0002...</td>\n",
              "      <td>B-ORG\u0002I-ORG\u0002I-ORG\u0002O\u0002O\u0002B-PER\u0002I-PER\u0002I-PER\u0002O\u0002O\u0002O\u0002...</td>\n",
              "    </tr>\n",
              "    <tr>\n",
              "      <th>9</th>\n",
              "      <td>这\u0002种\u0002混\u0002乱\u0002局\u0002面\u0002导\u0002致\u0002有\u0002些\u0002海\u0002域\u0002使\u0002用\u0002者\u0002的\u0002合\u0002法\u0002权\u0002益\u0002难\u0002以\u0002得\u0002...</td>\n",
              "      <td>O\u0002O\u0002O\u0002O\u0002O\u0002O\u0002O\u0002O\u0002O\u0002O\u0002O\u0002O\u0002O\u0002O\u0002O\u0002O\u0002O\u0002O\u0002O\u0002O\u0002O\u0002O\u0002O\u0002...</td>\n",
              "    </tr>\n",
              "  </tbody>\n",
              "</table>\n",
              "</div>"
            ],
            "text/plain": [
              "                                                text                                              label\n",
              "0                                             text_a                                              label\n",
              "1                海\u0002钓\u0002比\u0002赛\u0002地\u0002点\u0002在\u0002厦\u0002门\u0002与\u0002金\u0002门\u0002之\u0002间\u0002的\u0002海\u0002域\u0002。  O\u0002O\u0002O\u0002O\u0002O\u0002O\u0002O\u0002B-LOC\u0002I-LOC\u0002O\u0002B-LOC\u0002I-LOC\u0002O\u0002O\u0002O\u0002...\n",
              "2  这\u0002座\u0002依\u0002山\u0002傍\u0002水\u0002的\u0002博\u0002物\u0002馆\u0002由\u0002国\u0002内\u0002一\u0002流\u0002的\u0002设\u0002计\u0002师\u0002主\u0002持\u0002设\u0002计\u0002...  O\u0002O\u0002O\u0002O\u0002O\u0002O\u0002O\u0002O\u0002O\u0002O\u0002O\u0002O\u0002O\u0002O\u0002O\u0002O\u0002O\u0002O\u0002O\u0002O\u0002O\u0002O\u0002O\u0002...\n",
              "3  但\u0002作\u0002为\u0002一\u0002个\u0002共\u0002产\u0002党\u0002员\u0002、\u0002人\u0002民\u0002公\u0002仆\u0002，\u0002应\u0002当\u0002胸\u0002怀\u0002宽\u0002阔\u0002，\u0002真\u0002...  O\u0002O\u0002O\u0002O\u0002O\u0002O\u0002O\u0002O\u0002O\u0002O\u0002O\u0002O\u0002O\u0002O\u0002O\u0002O\u0002O\u0002O\u0002O\u0002O\u0002O\u0002O\u0002O\u0002...\n",
              "4  在\u0002发\u0002达\u0002国\u0002家\u0002，\u0002急\u0002救\u0002保\u0002险\u0002十\u0002分\u0002普\u0002及\u0002，\u0002已\u0002成\u0002为\u0002社\u0002会\u0002保\u0002障\u0002体\u0002...  O\u0002O\u0002O\u0002O\u0002O\u0002O\u0002O\u0002O\u0002O\u0002O\u0002O\u0002O\u0002O\u0002O\u0002O\u0002O\u0002O\u0002O\u0002O\u0002O\u0002O\u0002O\u0002O\u0002...\n",
              "5  日\u0002俄\u0002两\u0002国\u0002国\u0002内\u0002政\u0002局\u0002都\u0002充\u0002满\u0002变\u0002数\u0002，\u0002尽\u0002管\u0002日\u0002俄\u0002关\u0002系\u0002目\u0002前\u0002是\u0002...  B-LOC\u0002B-LOC\u0002O\u0002O\u0002O\u0002O\u0002O\u0002O\u0002O\u0002O\u0002O\u0002O\u0002O\u0002O\u0002O\u0002O\u0002B-LOC\u0002...\n",
              "6  克\u0002马\u0002尔\u0002的\u0002女\u0002儿\u0002让\u0002娜\u0002今\u0002年\u0002读\u0002五\u0002年\u0002级\u0002，\u0002她\u0002所\u0002在\u0002的\u0002班\u0002上\u0002有\u00023\u0002...  B-PER\u0002I-PER\u0002I-PER\u0002O\u0002O\u0002O\u0002B-PER\u0002I-PER\u0002O\u0002O\u0002O\u0002O\u0002O\u0002...\n",
              "7          参\u0002加\u0002步\u0002行\u0002的\u0002有\u0002男\u0002有\u0002女\u0002，\u0002有\u0002年\u0002轻\u0002人\u0002，\u0002也\u0002有\u0002中\u0002年\u0002人\u0002。          O\u0002O\u0002O\u0002O\u0002O\u0002O\u0002O\u0002O\u0002O\u0002O\u0002O\u0002O\u0002O\u0002O\u0002O\u0002O\u0002O\u0002O\u0002O\u0002O\u0002O\n",
              "8  沙\u0002特\u0002队\u0002教\u0002练\u0002佩\u0002雷\u0002拉\u0002：\u0002两\u0002支\u0002队\u0002都\u0002想\u0002胜\u0002，\u0002因\u0002此\u0002都\u0002作\u0002出\u0002了\u0002最\u0002...  B-ORG\u0002I-ORG\u0002I-ORG\u0002O\u0002O\u0002B-PER\u0002I-PER\u0002I-PER\u0002O\u0002O\u0002O\u0002...\n",
              "9  这\u0002种\u0002混\u0002乱\u0002局\u0002面\u0002导\u0002致\u0002有\u0002些\u0002海\u0002域\u0002使\u0002用\u0002者\u0002的\u0002合\u0002法\u0002权\u0002益\u0002难\u0002以\u0002得\u0002...  O\u0002O\u0002O\u0002O\u0002O\u0002O\u0002O\u0002O\u0002O\u0002O\u0002O\u0002O\u0002O\u0002O\u0002O\u0002O\u0002O\u0002O\u0002O\u0002O\u0002O\u0002O\u0002O\u0002..."
            ]
          },
          "metadata": {
            "tags": []
          },
          "execution_count": 86
        }
      ]
    },
    {
      "cell_type": "code",
      "metadata": {
        "id": "WniKT0ZVzpfZ",
        "colab_type": "code",
        "colab": {}
      },
      "source": [
        "texts = data.text.values[1:]\n",
        "labels = data.label.values[1:]"
      ],
      "execution_count": null,
      "outputs": []
    },
    {
      "cell_type": "code",
      "metadata": {
        "id": "rDnmKfCu07f3",
        "colab_type": "code",
        "colab": {}
      },
      "source": [
        "combined_text, combined_tags, list_tags = [], [], []\n",
        "for txt, lab in zip(texts, labels):\n",
        "  return_texts = txt.split('\\x02')\n",
        "  return_tags = lab.split('\\x02')\n",
        "  ## separate sentences\n",
        "  ind_end = -1\n",
        "  for it, txt in enumerate(return_texts):\n",
        "    if txt == '；' or txt == '。':\n",
        "      combined_text += [return_texts[ind_end+1:it]]\n",
        "      combined_tags += [return_tags[ind_end+1:it]]\n",
        "      ind_end = it\n",
        "  #combined_text.append(return_texts)\n",
        "  #combined_tags.append(return_tags)\n",
        "  list_tags += return_tags\n",
        "\n",
        "#print(combined_text[:2])\n",
        "#print(combined_tags[:2])\n",
        "#print(list_tags[:10])"
      ],
      "execution_count": null,
      "outputs": []
    },
    {
      "cell_type": "markdown",
      "metadata": {
        "id": "VjsCveEH52J4",
        "colab_type": "text"
      },
      "source": [
        "# Encode (digitize) text and tags"
      ]
    },
    {
      "cell_type": "code",
      "metadata": {
        "id": "28WM9oQD2V9S",
        "colab_type": "code",
        "colab": {
          "base_uri": "https://localhost:8080/",
          "height": 340
        },
        "outputId": "b9cb188a-6005-4b1c-91e4-f01c8ac7eeae"
      },
      "source": [
        "#install the amazing transformers package by huggingface\n",
        "!pip install transformers\n",
        "\n",
        "import torch\n",
        "from torch.utils.data import TensorDataset, DataLoader, RandomSampler, SequentialSampler\n",
        "from transformers import BertTokenizer, BertConfig\n",
        "\n",
        "from keras.preprocessing.sequence import pad_sequences\n",
        "from sklearn.model_selection import train_test_split"
      ],
      "execution_count": null,
      "outputs": [
        {
          "output_type": "stream",
          "text": [
            "Requirement already satisfied: transformers in /usr/local/lib/python3.6/dist-packages (3.0.2)\n",
            "Requirement already satisfied: tqdm>=4.27 in /usr/local/lib/python3.6/dist-packages (from transformers) (4.41.1)\n",
            "Requirement already satisfied: numpy in /usr/local/lib/python3.6/dist-packages (from transformers) (1.18.5)\n",
            "Requirement already satisfied: tokenizers==0.8.1.rc1 in /usr/local/lib/python3.6/dist-packages (from transformers) (0.8.1rc1)\n",
            "Requirement already satisfied: requests in /usr/local/lib/python3.6/dist-packages (from transformers) (2.23.0)\n",
            "Requirement already satisfied: packaging in /usr/local/lib/python3.6/dist-packages (from transformers) (20.4)\n",
            "Requirement already satisfied: regex!=2019.12.17 in /usr/local/lib/python3.6/dist-packages (from transformers) (2019.12.20)\n",
            "Requirement already satisfied: sacremoses in /usr/local/lib/python3.6/dist-packages (from transformers) (0.0.43)\n",
            "Requirement already satisfied: dataclasses; python_version < \"3.7\" in /usr/local/lib/python3.6/dist-packages (from transformers) (0.7)\n",
            "Requirement already satisfied: filelock in /usr/local/lib/python3.6/dist-packages (from transformers) (3.0.12)\n",
            "Requirement already satisfied: sentencepiece!=0.1.92 in /usr/local/lib/python3.6/dist-packages (from transformers) (0.1.91)\n",
            "Requirement already satisfied: certifi>=2017.4.17 in /usr/local/lib/python3.6/dist-packages (from requests->transformers) (2020.6.20)\n",
            "Requirement already satisfied: chardet<4,>=3.0.2 in /usr/local/lib/python3.6/dist-packages (from requests->transformers) (3.0.4)\n",
            "Requirement already satisfied: idna<3,>=2.5 in /usr/local/lib/python3.6/dist-packages (from requests->transformers) (2.10)\n",
            "Requirement already satisfied: urllib3!=1.25.0,!=1.25.1,<1.26,>=1.21.1 in /usr/local/lib/python3.6/dist-packages (from requests->transformers) (1.24.3)\n",
            "Requirement already satisfied: six in /usr/local/lib/python3.6/dist-packages (from packaging->transformers) (1.12.0)\n",
            "Requirement already satisfied: pyparsing>=2.0.2 in /usr/local/lib/python3.6/dist-packages (from packaging->transformers) (2.4.7)\n",
            "Requirement already satisfied: click in /usr/local/lib/python3.6/dist-packages (from sacremoses->transformers) (7.1.2)\n",
            "Requirement already satisfied: joblib in /usr/local/lib/python3.6/dist-packages (from sacremoses->transformers) (0.16.0)\n"
          ],
          "name": "stdout"
        }
      ]
    },
    {
      "cell_type": "code",
      "metadata": {
        "id": "xIft8tKT24aL",
        "colab_type": "code",
        "colab": {
          "base_uri": "https://localhost:8080/",
          "height": 35
        },
        "outputId": "00a88404-431d-4580-c305-8e4d116b9abc"
      },
      "source": [
        "## setup GPU\n",
        "device = torch.device(\"cuda\" if torch.cuda.is_available() else \"cpu\")\n",
        "n_gpu = torch.cuda.device_count()\n",
        "torch.cuda.get_device_name(0)"
      ],
      "execution_count": null,
      "outputs": [
        {
          "output_type": "execute_result",
          "data": {
            "application/vnd.google.colaboratory.intrinsic": {
              "type": "string"
            },
            "text/plain": [
              "'Tesla P100-PCIE-16GB'"
            ]
          },
          "metadata": {
            "tags": []
          },
          "execution_count": 90
        }
      ]
    },
    {
      "cell_type": "code",
      "metadata": {
        "id": "RbOw0iOc28iY",
        "colab_type": "code",
        "colab": {}
      },
      "source": [
        "tokenizer = BertTokenizer.from_pretrained('bert-base-chinese')"
      ],
      "execution_count": null,
      "outputs": []
    },
    {
      "cell_type": "code",
      "metadata": {
        "id": "cwK2YkXZA851",
        "colab_type": "code",
        "colab": {}
      },
      "source": [
        "## extract subset(s) of token, improve f1 from 0.55 to 0.7 (amazing?)\n",
        "def tokenize_and_preserve_labels(sentence, text_labels):\n",
        "    tokenized_sentence = []\n",
        "    labels = []\n",
        "\n",
        "    for word, label in zip(sentence, text_labels):\n",
        "\n",
        "        # Tokenize the word and count # of subwords the word is broken into\n",
        "        tokenized_word = tokenizer.tokenize(word)\n",
        "        n_subwords = len(tokenized_word)\n",
        "\n",
        "        # Add the tokenized word to the final tokenized word list\n",
        "        tokenized_sentence.extend(tokenized_word)\n",
        "\n",
        "        # Add the same label to the new list of labels `n_subwords` times\n",
        "        labels.extend([label] * n_subwords)\n",
        "\n",
        "    return tokenized_sentence, labels"
      ],
      "execution_count": null,
      "outputs": []
    },
    {
      "cell_type": "code",
      "metadata": {
        "id": "kzLcH7MuA_jI",
        "colab_type": "code",
        "colab": {}
      },
      "source": [
        "## compare the difference\n",
        "tokenized_texts_and_labels = [\n",
        "    tokenize_and_preserve_labels(sent, labs)\n",
        "    for sent, labs in zip(combined_text, combined_tags)\n",
        "]\n",
        "tokenized_texts = [token_label_pair[0] for token_label_pair in tokenized_texts_and_labels]\n",
        "labels = [token_label_pair[1] for token_label_pair in tokenized_texts_and_labels]"
      ],
      "execution_count": null,
      "outputs": []
    },
    {
      "cell_type": "code",
      "metadata": {
        "id": "9BSKDzUuBJOf",
        "colab_type": "code",
        "colab": {}
      },
      "source": [
        "combined_text = tokenized_texts\n",
        "combined_tags = labels"
      ],
      "execution_count": null,
      "outputs": []
    },
    {
      "cell_type": "code",
      "metadata": {
        "id": "3DmydH5Y3A-P",
        "colab_type": "code",
        "colab": {
          "base_uri": "https://localhost:8080/",
          "height": 385
        },
        "outputId": "83f17b78-0dca-4175-99ba-d56de0afe676"
      },
      "source": [
        "text_len = []\n",
        "for txt in combined_text:\n",
        "  text_len.append(len(txt))\n",
        "  if len(txt)>500:\n",
        "    print(txt)\n",
        "\n",
        "plt.plot(text_len)\n",
        "plt.show()"
      ],
      "execution_count": null,
      "outputs": [
        {
          "output_type": "display_data",
          "data": {
            "image/png": "[encoded data removed]",
            "text/plain": [
              "<Figure size 864x432 with 1 Axes>"
            ]
          },
          "metadata": {
            "tags": []
          }
        }
      ]
    },
    {
      "cell_type": "code",
      "metadata": {
        "id": "cnQDGgw45AwM",
        "colab_type": "code",
        "colab": {}
      },
      "source": [
        "MAX_LEN = 256\n",
        "bs = 16\n",
        "input_ids = pad_sequences([tokenizer.convert_tokens_to_ids(txt) for txt in combined_text],\n",
        "                          maxlen=MAX_LEN, dtype=\"long\", value=0.0,\n",
        "                          truncating=\"post\", padding=\"post\")"
      ],
      "execution_count": null,
      "outputs": []
    },
    {
      "cell_type": "code",
      "metadata": {
        "id": "9aY4QQjx5JGq",
        "colab_type": "code",
        "colab": {
          "base_uri": "https://localhost:8080/",
          "height": 34
        },
        "outputId": "cd834b12-3e81-4d8a-b4d0-537e43bee823"
      },
      "source": [
        "tag_values = list(set(list_tags))\n",
        "tag_values.append(\"PAD\")\n",
        "tag2idx = {t: i for i, t in enumerate(tag_values)}\n",
        "\n",
        "print(tag_values)"
      ],
      "execution_count": null,
      "outputs": [
        {
          "output_type": "stream",
          "text": [
            "['B-PER', 'I-PER', 'B-LOC', 'I-ORG', 'B-ORG', 'O', 'I-LOC', 'PAD']\n"
          ],
          "name": "stdout"
        }
      ]
    },
    {
      "cell_type": "code",
      "metadata": {
        "id": "BaiKoLuS5NRT",
        "colab_type": "code",
        "colab": {
          "base_uri": "https://localhost:8080/",
          "height": 221
        },
        "outputId": "b62ab10b-9ea9-4ae1-ad5c-c2c90dc8c2fa"
      },
      "source": [
        "tags = pad_sequences([[tag2idx.get(l) for l in lab] for lab in combined_tags],\n",
        "                     maxlen=MAX_LEN, value=tag2idx[\"PAD\"], padding=\"post\",\n",
        "                     dtype=\"long\", truncating=\"post\")\n",
        "\n",
        "tags[0]"
      ],
      "execution_count": null,
      "outputs": [
        {
          "output_type": "execute_result",
          "data": {
            "text/plain": [
              "array([5, 5, 5, 5, 5, 5, 5, 2, 6, 5, 2, 6, 5, 5, 5, 5, 5, 7, 7, 7, 7, 7,\n",
              "       7, 7, 7, 7, 7, 7, 7, 7, 7, 7, 7, 7, 7, 7, 7, 7, 7, 7, 7, 7, 7, 7,\n",
              "       7, 7, 7, 7, 7, 7, 7, 7, 7, 7, 7, 7, 7, 7, 7, 7, 7, 7, 7, 7, 7, 7,\n",
              "       7, 7, 7, 7, 7, 7, 7, 7, 7, 7, 7, 7, 7, 7, 7, 7, 7, 7, 7, 7, 7, 7,\n",
              "       7, 7, 7, 7, 7, 7, 7, 7, 7, 7, 7, 7, 7, 7, 7, 7, 7, 7, 7, 7, 7, 7,\n",
              "       7, 7, 7, 7, 7, 7, 7, 7, 7, 7, 7, 7, 7, 7, 7, 7, 7, 7, 7, 7, 7, 7,\n",
              "       7, 7, 7, 7, 7, 7, 7, 7, 7, 7, 7, 7, 7, 7, 7, 7, 7, 7, 7, 7, 7, 7,\n",
              "       7, 7, 7, 7, 7, 7, 7, 7, 7, 7, 7, 7, 7, 7, 7, 7, 7, 7, 7, 7, 7, 7,\n",
              "       7, 7, 7, 7, 7, 7, 7, 7, 7, 7, 7, 7, 7, 7, 7, 7, 7, 7, 7, 7, 7, 7,\n",
              "       7, 7, 7, 7, 7, 7, 7, 7, 7, 7, 7, 7, 7, 7, 7, 7, 7, 7, 7, 7, 7, 7,\n",
              "       7, 7, 7, 7, 7, 7, 7, 7, 7, 7, 7, 7, 7, 7, 7, 7, 7, 7, 7, 7, 7, 7,\n",
              "       7, 7, 7, 7, 7, 7, 7, 7, 7, 7, 7, 7, 7, 7])"
            ]
          },
          "metadata": {
            "tags": []
          },
          "execution_count": 98
        }
      ]
    },
    {
      "cell_type": "code",
      "metadata": {
        "id": "NWgku42y5Qwi",
        "colab_type": "code",
        "colab": {
          "base_uri": "https://localhost:8080/",
          "height": 357
        },
        "outputId": "6d864ee2-b568-4791-e226-3e700d9ece59"
      },
      "source": [
        "print(combined_text[0])\n",
        "print(input_ids[0])"
      ],
      "execution_count": null,
      "outputs": [
        {
          "output_type": "stream",
          "text": [
            "['海', '钓', '比', '赛', '地', '点', '在', '厦', '门', '与', '金', '门', '之', '间', '的', '海', '域']\n",
            "[3862 7157 3683 6612 1765 4157 1762 1336 7305  680 7032 7305  722 7313\n",
            " 4638 3862 1818    0    0    0    0    0    0    0    0    0    0    0\n",
            "    0    0    0    0    0    0    0    0    0    0    0    0    0    0\n",
            "    0    0    0    0    0    0    0    0    0    0    0    0    0    0\n",
            "    0    0    0    0    0    0    0    0    0    0    0    0    0    0\n",
            "    0    0    0    0    0    0    0    0    0    0    0    0    0    0\n",
            "    0    0    0    0    0    0    0    0    0    0    0    0    0    0\n",
            "    0    0    0    0    0    0    0    0    0    0    0    0    0    0\n",
            "    0    0    0    0    0    0    0    0    0    0    0    0    0    0\n",
            "    0    0    0    0    0    0    0    0    0    0    0    0    0    0\n",
            "    0    0    0    0    0    0    0    0    0    0    0    0    0    0\n",
            "    0    0    0    0    0    0    0    0    0    0    0    0    0    0\n",
            "    0    0    0    0    0    0    0    0    0    0    0    0    0    0\n",
            "    0    0    0    0    0    0    0    0    0    0    0    0    0    0\n",
            "    0    0    0    0    0    0    0    0    0    0    0    0    0    0\n",
            "    0    0    0    0    0    0    0    0    0    0    0    0    0    0\n",
            "    0    0    0    0    0    0    0    0    0    0    0    0    0    0\n",
            "    0    0    0    0    0    0    0    0    0    0    0    0    0    0\n",
            "    0    0    0    0]\n"
          ],
          "name": "stdout"
        }
      ]
    },
    {
      "cell_type": "code",
      "metadata": {
        "id": "BJJ7mAjh5Uhg",
        "colab_type": "code",
        "colab": {}
      },
      "source": [
        "attention_masks = [[float(i != 0.0) for i in ii] for ii in input_ids]"
      ],
      "execution_count": null,
      "outputs": []
    },
    {
      "cell_type": "code",
      "metadata": {
        "id": "7Hxb73965c-O",
        "colab_type": "code",
        "colab": {}
      },
      "source": [
        "# split data for trainning (tr_) and validation (val_), here use keras (tensorflow backend)\n",
        "tr_inputs, val_inputs, tr_tags, val_tags = train_test_split(input_ids, tags,\n",
        "                                                            random_state=2018, test_size=0.1)\n",
        "tr_masks, val_masks, _, _ = train_test_split(attention_masks, input_ids,\n",
        "                                             random_state=2018, test_size=0.1)"
      ],
      "execution_count": null,
      "outputs": []
    },
    {
      "cell_type": "code",
      "metadata": {
        "id": "2uNx1QcO5ky3",
        "colab_type": "code",
        "colab": {}
      },
      "source": [
        "# convert data to torch tensors\n",
        "tr_inputs = torch.tensor(tr_inputs)\n",
        "val_inputs = torch.tensor(val_inputs)\n",
        "tr_tags = torch.tensor(tr_tags)\n",
        "val_tags = torch.tensor(val_tags)\n",
        "tr_masks = torch.tensor(tr_masks)\n",
        "val_masks = torch.tensor(val_masks)"
      ],
      "execution_count": null,
      "outputs": []
    },
    {
      "cell_type": "code",
      "metadata": {
        "id": "tHpSFz6o5nhX",
        "colab_type": "code",
        "colab": {}
      },
      "source": [
        "# The last step is to define the dataloaders. We shuffle the data at training time with the RandomSampler and at test time we just pass them sequentially with the SequentialSampler.\n",
        "train_data = TensorDataset(tr_inputs, tr_masks, tr_tags)\n",
        "train_sampler = RandomSampler(train_data)\n",
        "train_dataloader = DataLoader(train_data, sampler=train_sampler, batch_size=bs)\n",
        "\n",
        "valid_data = TensorDataset(val_inputs, val_masks, val_tags)\n",
        "valid_sampler = SequentialSampler(valid_data)\n",
        "valid_dataloader = DataLoader(valid_data, sampler=valid_sampler, batch_size=bs)"
      ],
      "execution_count": null,
      "outputs": []
    },
    {
      "cell_type": "markdown",
      "metadata": {
        "id": "UgVkaDk755AF",
        "colab_type": "text"
      },
      "source": [
        "# Setup the Bert model for finetuning\n"
      ]
    },
    {
      "cell_type": "code",
      "metadata": {
        "id": "7QwUCunG5pz-",
        "colab_type": "code",
        "colab": {
          "base_uri": "https://localhost:8080/",
          "height": 35
        },
        "outputId": "60ebb45d-0fc9-4c8c-baf9-0faa8621820d"
      },
      "source": [
        "import transformers\n",
        "from transformers import BertForTokenClassification, AdamW\n",
        "\n",
        "transformers.__version__"
      ],
      "execution_count": null,
      "outputs": [
        {
          "output_type": "execute_result",
          "data": {
            "application/vnd.google.colaboratory.intrinsic": {
              "type": "string"
            },
            "text/plain": [
              "'3.0.2'"
            ]
          },
          "metadata": {
            "tags": []
          },
          "execution_count": 104
        }
      ]
    },
    {
      "cell_type": "code",
      "metadata": {
        "id": "-SOX18Sn5-us",
        "colab_type": "code",
        "colab": {
          "base_uri": "https://localhost:8080/",
          "height": 122
        },
        "outputId": "95a9905c-27b4-4d67-f067-5dea8bfe79fc"
      },
      "source": [
        "model = BertForTokenClassification.from_pretrained(\n",
        "    \"bert-base-chinese\",\n",
        "    num_labels=len(tag2idx),\n",
        "    output_attentions = False,\n",
        "    output_hidden_states = False\n",
        ")"
      ],
      "execution_count": null,
      "outputs": [
        {
          "output_type": "stream",
          "text": [
            "Some weights of the model checkpoint at bert-base-chinese were not used when initializing BertForTokenClassification: ['cls.predictions.bias', 'cls.predictions.transform.dense.weight', 'cls.predictions.transform.dense.bias', 'cls.predictions.decoder.weight', 'cls.seq_relationship.weight', 'cls.seq_relationship.bias', 'cls.predictions.transform.LayerNorm.weight', 'cls.predictions.transform.LayerNorm.bias']\n",
            "- This IS expected if you are initializing BertForTokenClassification from the checkpoint of a model trained on another task or with another architecture (e.g. initializing a BertForSequenceClassification model from a BertForPretraining model).\n",
            "- This IS NOT expected if you are initializing BertForTokenClassification from the checkpoint of a model that you expect to be exactly identical (initializing a BertForSequenceClassification model from a BertForSequenceClassification model).\n",
            "Some weights of BertForTokenClassification were not initialized from the model checkpoint at bert-base-chinese and are newly initialized: ['classifier.weight', 'classifier.bias']\n",
            "You should probably TRAIN this model on a down-stream task to be able to use it for predictions and inference.\n"
          ],
          "name": "stderr"
        }
      ]
    },
    {
      "cell_type": "code",
      "metadata": {
        "id": "D5Lw2UfI6DI3",
        "colab_type": "code",
        "colab": {}
      },
      "source": [
        "model.cuda();"
      ],
      "execution_count": null,
      "outputs": []
    },
    {
      "cell_type": "code",
      "metadata": {
        "id": "Sxysd6HS6HF3",
        "colab_type": "code",
        "colab": {}
      },
      "source": [
        "FULL_FINETUNING = True\n",
        "if FULL_FINETUNING:\n",
        "    param_optimizer = list(model.named_parameters())\n",
        "    no_decay = ['bias', 'gamma', 'beta']\n",
        "    optimizer_grouped_parameters = [\n",
        "        {'params': [p for n, p in param_optimizer if not any(nd in n for nd in no_decay)],\n",
        "         'weight_decay_rate': 0.01},\n",
        "        {'params': [p for n, p in param_optimizer if any(nd in n for nd in no_decay)],\n",
        "         'weight_decay_rate': 0.0}\n",
        "    ]\n",
        "else:\n",
        "    param_optimizer = list(model.classifier.named_parameters())\n",
        "    optimizer_grouped_parameters = [{\"params\": [p for n, p in param_optimizer]}]\n",
        "\n",
        "optimizer = AdamW(\n",
        "    optimizer_grouped_parameters,\n",
        "    lr=2e-5,\n",
        "    eps=1e-8\n",
        ")"
      ],
      "execution_count": null,
      "outputs": []
    },
    {
      "cell_type": "code",
      "metadata": {
        "id": "GdHhd_D26RWt",
        "colab_type": "code",
        "colab": {}
      },
      "source": [
        "from transformers import get_linear_schedule_with_warmup\n",
        "\n",
        "epochs = 5\n",
        "max_grad_norm = 1.0\n",
        "\n",
        "# Total number of training steps is number of batches * number of epochs.\n",
        "total_steps = len(train_dataloader) * epochs\n",
        "\n",
        "# Create the learning rate scheduler.\n",
        "scheduler = get_linear_schedule_with_warmup(\n",
        "    optimizer,\n",
        "    num_warmup_steps=0,\n",
        "    num_training_steps=total_steps\n",
        ")"
      ],
      "execution_count": null,
      "outputs": []
    },
    {
      "cell_type": "markdown",
      "metadata": {
        "id": "Elo1p_Wq6W3F",
        "colab_type": "text"
      },
      "source": [
        "# Training: fit BERT for named entity recognition"
      ]
    },
    {
      "cell_type": "code",
      "metadata": {
        "id": "8p5wQ5VO6T6t",
        "colab_type": "code",
        "colab": {
          "base_uri": "https://localhost:8080/",
          "height": 170
        },
        "outputId": "a9a5e13b-2f64-4bf6-f78e-d7eeb50041ea"
      },
      "source": [
        "!pip install seqeval\n",
        "from seqeval.metrics import f1_score, accuracy_score"
      ],
      "execution_count": null,
      "outputs": [
        {
          "output_type": "stream",
          "text": [
            "Requirement already satisfied: seqeval in /usr/local/lib/python3.6/dist-packages (0.0.12)\n",
            "Requirement already satisfied: numpy>=1.14.0 in /usr/local/lib/python3.6/dist-packages (from seqeval) (1.18.5)\n",
            "Requirement already satisfied: Keras>=2.2.4 in /usr/local/lib/python3.6/dist-packages (from seqeval) (2.3.1)\n",
            "Requirement already satisfied: pyyaml in /usr/local/lib/python3.6/dist-packages (from Keras>=2.2.4->seqeval) (3.13)\n",
            "Requirement already satisfied: scipy>=0.14 in /usr/local/lib/python3.6/dist-packages (from Keras>=2.2.4->seqeval) (1.4.1)\n",
            "Requirement already satisfied: six>=1.9.0 in /usr/local/lib/python3.6/dist-packages (from Keras>=2.2.4->seqeval) (1.12.0)\n",
            "Requirement already satisfied: h5py in /usr/local/lib/python3.6/dist-packages (from Keras>=2.2.4->seqeval) (2.10.0)\n",
            "Requirement already satisfied: keras-preprocessing>=1.0.5 in /usr/local/lib/python3.6/dist-packages (from Keras>=2.2.4->seqeval) (1.1.2)\n",
            "Requirement already satisfied: keras-applications>=1.0.6 in /usr/local/lib/python3.6/dist-packages (from Keras>=2.2.4->seqeval) (1.0.8)\n"
          ],
          "name": "stdout"
        }
      ]
    },
    {
      "cell_type": "code",
      "metadata": {
        "id": "cXL6euCV6Z0d",
        "colab_type": "code",
        "colab": {}
      },
      "source": [
        "import time\n",
        "import datetime\n",
        "\n",
        "def format_time(elapsed):\n",
        "    '''\n",
        "    Takes a time in seconds and returns a string hh:mm:ss\n",
        "    '''\n",
        "    # Round to the nearest second.\n",
        "    elapsed_rounded = int(round((elapsed)))\n",
        "    \n",
        "    # Format as hh:mm:ss\n",
        "    return str(datetime.timedelta(seconds=elapsed_rounded))"
      ],
      "execution_count": null,
      "outputs": []
    },
    {
      "cell_type": "code",
      "metadata": {
        "id": "9oJe6UcB6b7x",
        "colab_type": "code",
        "colab": {
          "base_uri": "https://localhost:8080/",
          "height": 1000
        },
        "outputId": "e71d2433-8d5c-489c-fef8-9e08e978d4e2"
      },
      "source": [
        "from tqdm import tqdm, trange\n",
        "## Store the average loss after each epoch so we can plot them.\n",
        "loss_values, validation_loss_values = [], []\n",
        "f1_values, validation_f1_values = [], []\n",
        "acc_values, validation_acc_values = [], []\n",
        "\n",
        "total_t0 = time.time()\n",
        "for _ in trange(epochs, desc=\"Epoch\"):\n",
        "    # ========================================\n",
        "    #               Training\n",
        "    # ========================================\n",
        "    # Perform one full pass over the training set.\n",
        "\n",
        "    # Measure how long the training epoch takes.\n",
        "    t0 = time.time()\n",
        "    # Put the model into training mode.\n",
        "    model.train()\n",
        "    # Reset the total loss for this epoch.\n",
        "    total_loss = 0\n",
        "    tr_pred , tr_true_labels = [], []\n",
        "\n",
        "\n",
        "    # Training loop\n",
        "    for step, batch in enumerate(train_dataloader):\n",
        "        # add batch to gpu\n",
        "        batch = tuple(t.to(device) for t in batch)\n",
        "        b_input_ids, b_input_mask, b_labels = batch\n",
        "        # Always clear any previously calculated gradients before performing a backward pass.\n",
        "        model.zero_grad()\n",
        "        # forward pass\n",
        "        # This will return the loss (rather than the model output)\n",
        "        # because we have provided the `labels`.\n",
        "        outputs = model(b_input_ids, token_type_ids=None,\n",
        "                        attention_mask=b_input_mask, labels=b_labels)\n",
        "        # get the loss\n",
        "        loss = outputs[0]\n",
        "        # Perform a backward pass to calculate the gradients.\n",
        "        loss.backward()\n",
        "        # track train loss\n",
        "        total_loss += loss.item()\n",
        "\n",
        "        # Clip the norm of the gradient\n",
        "        # This is to help prevent the \"exploding gradients\" problem.\n",
        "        torch.nn.utils.clip_grad_norm_(parameters=model.parameters(), max_norm=max_grad_norm)\n",
        "        # update parameters\n",
        "        optimizer.step()\n",
        "        # Update the learning rate.\n",
        "        scheduler.step()\n",
        "\n",
        "        # Move logits and labels to CPU\n",
        "        tr_logits = outputs[1].detach().cpu().numpy()\n",
        "        tr_label = b_labels.to('cpu').numpy()\n",
        "        tr_pred.extend([list(p) for p in np.argmax(tr_logits, axis=2)])\n",
        "        tr_true_labels.extend(tr_label)\n",
        "        \n",
        "\n",
        "    # Calculate the average loss over the training data.\n",
        "    avg_train_loss = total_loss / len(train_dataloader)\n",
        "    print(\"Train loss: {}\".format(avg_train_loss))\n",
        "    # Store the loss value for plotting the learning curve.\n",
        "    loss_values.append(avg_train_loss)\n",
        "\n",
        "    tr_pred_tags = [tag_values[p_i] for p, l in zip(tr_pred, tr_true_labels)\n",
        "                                 for p_i, l_i in zip(p, l) if tag_values[l_i] != \"PAD\"]\n",
        "    train_tags = [tag_values[l_i] for l in tr_true_labels\n",
        "                                  for l_i in l if tag_values[l_i] != \"PAD\"]\n",
        "    train_acc = accuracy_score(tr_pred_tags, train_tags)\n",
        "    train_f1 = f1_score(tr_pred_tags, train_tags)\n",
        "    print(\"Train Accuracy: {}\".format(train_acc))\n",
        "    print(\"Train F1-Score: {}\".format(train_f1))\n",
        "    acc_values.append(train_acc)\n",
        "    f1_values.append(train_f1)\n",
        "\n",
        "    # Measure how long this epoch took.\n",
        "    training_time = format_time(time.time() - t0)\n",
        "    print(\"  Training epcoh took: {:}\".format(training_time))\n",
        "\n",
        "    # ========================================\n",
        "    #               Validation\n",
        "    # ========================================\n",
        "    # After the completion of each training epoch, measure our performance on\n",
        "    # our validation set.\n",
        "\n",
        "    print(\"\")\n",
        "    print(\"Running Validation...\")\n",
        "    t0 = time.time()\n",
        "\n",
        "    # Put the model into evaluation mode\n",
        "    model.eval()\n",
        "    # Reset the validation loss for this epoch.\n",
        "    eval_loss, eval_accuracy = 0, 0\n",
        "    nb_eval_steps, nb_eval_examples = 0, 0\n",
        "    predictions , true_labels = [], []\n",
        "    for batch in valid_dataloader:\n",
        "        batch = tuple(t.to(device) for t in batch)\n",
        "        b_input_ids, b_input_mask, b_labels = batch\n",
        "\n",
        "        # Telling the model not to compute or store gradients,\n",
        "        # saving memory and speeding up validation\n",
        "        with torch.no_grad():\n",
        "            # Forward pass, calculate logit predictions.\n",
        "            # This will return the logits rather than the loss because we have not provided labels.\n",
        "            outputs = model(b_input_ids, token_type_ids=None,\n",
        "                            attention_mask=b_input_mask, labels=b_labels)\n",
        "        # Move logits and labels to CPU\n",
        "        logits = outputs[1].detach().cpu().numpy()\n",
        "        label_ids = b_labels.to('cpu').numpy()\n",
        "\n",
        "        # Calculate the accuracy for this batch of test sentences.\n",
        "        eval_loss += outputs[0].mean().item()\n",
        "        predictions.extend([list(p) for p in np.argmax(logits, axis=2)])\n",
        "        true_labels.extend(label_ids)\n",
        "\n",
        "    eval_loss = eval_loss / len(valid_dataloader)\n",
        "    validation_loss_values.append(eval_loss)\n",
        "    print(\"Validation loss: {}\".format(eval_loss))\n",
        "    pred_tags = [tag_values[p_i] for p, l in zip(predictions, true_labels)\n",
        "                                 for p_i, l_i in zip(p, l) if tag_values[l_i] != \"PAD\"]\n",
        "    valid_tags = [tag_values[l_i] for l in true_labels\n",
        "                                  for l_i in l if tag_values[l_i] != \"PAD\"]\n",
        "    valid_acc = accuracy_score(pred_tags, valid_tags)\n",
        "    valid_f1 = f1_score(pred_tags, valid_tags)\n",
        "    print(\"Validation Accuracy: {}\".format(valid_acc))\n",
        "    print(\"Validation F1-Score: {}\".format(valid_f1))\n",
        "    validation_acc_values.append(valid_acc)\n",
        "    validation_f1_values.append(valid_f1)\n",
        "\n",
        "    # Measure how long the validation run took.\n",
        "    validation_time = format_time(time.time() - t0)\n",
        "    print(\"  Validation took: {:}\".format(validation_time))\n",
        "    print()\n",
        "\n",
        "print(\"\")\n",
        "print(\"Training complete!\")\n",
        "\n",
        "print(\"Total training took {:} (h:mm:ss)\".format(format_time(time.time()-total_t0)))"
      ],
      "execution_count": null,
      "outputs": [
        {
          "output_type": "stream",
          "text": [
            "\rEpoch:   0%|          | 0/5 [00:00<?, ?it/s]"
          ],
          "name": "stderr"
        },
        {
          "output_type": "stream",
          "text": [
            "Train loss: 0.07590362352917035\n",
            "Train Accuracy: 0.9780737488449802\n",
            "Train F1-Score: 0.7793575743298953\n",
            "  Training epcoh took: 0:07:53\n",
            "\n",
            "Running Validation...\n",
            "Validation loss: 0.03121079602065489\n"
          ],
          "name": "stdout"
        },
        {
          "output_type": "stream",
          "text": [
            "\rEpoch:  20%|██        | 1/5 [08:09<32:37, 489.46s/it]"
          ],
          "name": "stderr"
        },
        {
          "output_type": "stream",
          "text": [
            "Validation Accuracy: 0.9902289070648296\n",
            "Validation F1-Score: 0.9113420972179762\n",
            "  Validation took: 0:00:17\n",
            "\n",
            "Train loss: 0.022076847839954786\n",
            "Train Accuracy: 0.993381327110089\n",
            "Train F1-Score: 0.9238373783501805\n",
            "  Training epcoh took: 0:07:53\n",
            "\n",
            "Running Validation...\n",
            "Validation loss: 0.027774734578969826\n"
          ],
          "name": "stdout"
        },
        {
          "output_type": "stream",
          "text": [
            "\rEpoch:  40%|████      | 2/5 [16:19<24:28, 489.66s/it]"
          ],
          "name": "stderr"
        },
        {
          "output_type": "stream",
          "text": [
            "Validation Accuracy: 0.9926442334083548\n",
            "Validation F1-Score: 0.9301175015460731\n",
            "  Validation took: 0:00:17\n",
            "\n",
            "Train loss: 0.010772257664680195\n",
            "Train Accuracy: 0.9967337681023921\n",
            "Train F1-Score: 0.9569630671101814\n",
            "  Training epcoh took: 0:07:51\n",
            "\n",
            "Running Validation...\n",
            "Validation loss: 0.03072616318873937\n"
          ],
          "name": "stdout"
        },
        {
          "output_type": "stream",
          "text": [
            "\rEpoch:  60%|██████    | 3/5 [24:27<16:17, 488.99s/it]"
          ],
          "name": "stderr"
        },
        {
          "output_type": "stream",
          "text": [
            "Validation Accuracy: 0.9921392106274359\n",
            "Validation F1-Score: 0.932577382776586\n",
            "  Validation took: 0:00:17\n",
            "\n",
            "Train loss: 0.005197026996927231\n",
            "Train Accuracy: 0.9983996677914323\n",
            "Train F1-Score: 0.976386072251057\n",
            "  Training epcoh took: 0:07:50\n",
            "\n",
            "Running Validation...\n",
            "Validation loss: 0.03420780991574657\n"
          ],
          "name": "stdout"
        },
        {
          "output_type": "stream",
          "text": [
            "\rEpoch:  80%|████████  | 4/5 [32:33<08:08, 488.26s/it]"
          ],
          "name": "stderr"
        },
        {
          "output_type": "stream",
          "text": [
            "Validation Accuracy: 0.9931492561892737\n",
            "Validation F1-Score: 0.9413930653574717\n",
            "  Validation took: 0:00:17\n",
            "\n",
            "Train loss: 0.003046765086993273\n",
            "Train Accuracy: 0.999170692793284\n",
            "Train F1-Score: 0.9873932212730779\n",
            "  Training epcoh took: 0:07:49\n",
            "\n",
            "Running Validation...\n",
            "Validation loss: 0.036174865736515446\n"
          ],
          "name": "stdout"
        },
        {
          "output_type": "stream",
          "text": [
            "Epoch: 100%|██████████| 5/5 [40:39<00:00, 487.95s/it]"
          ],
          "name": "stderr"
        },
        {
          "output_type": "stream",
          "text": [
            "Validation Accuracy: 0.9932590437503431\n",
            "Validation F1-Score: 0.9408329491317042\n",
            "  Validation took: 0:00:17\n",
            "\n",
            "\n",
            "Training complete!\n",
            "Total training took 0:40:40 (h:mm:ss)\n"
          ],
          "name": "stdout"
        },
        {
          "output_type": "stream",
          "text": [
            "\n"
          ],
          "name": "stderr"
        }
      ]
    },
    {
      "cell_type": "code",
      "metadata": {
        "id": "xO2MfhJ-6gL0",
        "colab_type": "code",
        "colab": {
          "base_uri": "https://localhost:8080/",
          "height": 85
        },
        "outputId": "110a7d12-1705-4913-d94a-235f2d2fe21a"
      },
      "source": [
        "import os\n",
        "# Saving best-practices: if you use defaults names for the model, you can reload it using from_pretrained()\n",
        "\n",
        "output_dir = '/content/gdrive/My Drive/Chinese_NER/model_save_2/'\n",
        "\n",
        "# Create output directory if needed\n",
        "if not os.path.exists(output_dir):\n",
        "    os.makedirs(output_dir)\n",
        "\n",
        "print(\"Saving model to %s\" % output_dir)\n",
        "\n",
        "# Save a trained model, configuration and tokenizer using `save_pretrained()`.\n",
        "# They can then be reloaded using `from_pretrained()`\n",
        "model_to_save = model.module if hasattr(model, 'module') else model  # Take care of distributed/parallel training\n",
        "model_to_save.save_pretrained(output_dir)\n",
        "tokenizer.save_pretrained(output_dir)"
      ],
      "execution_count": null,
      "outputs": [
        {
          "output_type": "stream",
          "text": [
            "Saving model to /content/gdrive/My Drive/Chinese_NER/model_save_2/\n"
          ],
          "name": "stdout"
        },
        {
          "output_type": "execute_result",
          "data": {
            "text/plain": [
              "('/content/gdrive/My Drive/Chinese_NER/model_save_2/vocab.txt',\n",
              " '/content/gdrive/My Drive/Chinese_NER/model_save_2/special_tokens_map.json',\n",
              " '/content/gdrive/My Drive/Chinese_NER/model_save_2/added_tokens.json')"
            ]
          },
          "metadata": {
            "tags": []
          },
          "execution_count": 112
        }
      ]
    },
    {
      "cell_type": "code",
      "metadata": {
        "id": "HjY0MyBTAYFH",
        "colab_type": "code",
        "colab": {
          "base_uri": "https://localhost:8080/",
          "height": 427
        },
        "outputId": "5662d042-da82-4f75-c0a3-5c1781be370e"
      },
      "source": [
        "import matplotlib.pyplot as plt\n",
        "%matplotlib inline\n",
        "\n",
        "import seaborn as sns\n",
        "\n",
        "# Use plot styling from seaborn.\n",
        "sns.set(style='darkgrid')\n",
        "\n",
        "# Increase the plot size and font size.\n",
        "sns.set(font_scale=1.5)\n",
        "plt.rcParams[\"figure.figsize\"] = (12,6)\n",
        "\n",
        "# Plot the learning curve.\n",
        "plt.plot(f1_values, 'b-o', label=\"training F1\")\n",
        "plt.plot(validation_f1_values, 'r-o', label=\"validation F1\")\n",
        "\n",
        "# Label the plot.\n",
        "plt.title(\"Learning curve\")\n",
        "plt.xlabel(\"Epoch\")\n",
        "plt.ylabel(\"F1 score\")\n",
        "plt.legend()\n",
        "\n",
        "plt.show()"
      ],
      "execution_count": null,
      "outputs": [
        {
          "output_type": "display_data",
          "data": {
            "image/png": "[encoded data removed]",
            "text/plain": [
              "<Figure size 864x432 with 1 Axes>"
            ]
          },
          "metadata": {
            "tags": []
          }
        }
      ]
    },
    {
      "cell_type": "code",
      "metadata": {
        "id": "4LfYJaNIArc5",
        "colab_type": "code",
        "colab": {}
      },
      "source": [
        ""
      ],
      "execution_count": null,
      "outputs": []
    }
  ]
}